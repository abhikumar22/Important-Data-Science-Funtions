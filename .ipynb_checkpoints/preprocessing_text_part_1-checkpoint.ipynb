{
 "cells": [
  {
   "cell_type": "markdown",
   "metadata": {},
   "source": [
    "# Preprocessing Text Steps\n",
    "- Remove end and start spaces if any\n",
    "- Remove unwanted spaces between words\n",
    "- Remove Special characters\n",
    "- Conversion to LowerCase"
   ]
  },
  {
   "cell_type": "markdown",
   "metadata": {},
   "source": [
    "# Sample Input\n",
    "####  0||Cyclin-dependent kinases (CDKs) regulate a variety of fundamental cellular processes. CDK10 stands out as one of the last orphan CDKs for which no activating cyclin has been identified and no kinase activity revealed. Previous work has shown that CDK10 silencing increases ETS2 (v-ets erythroblastosis virus E26 oncogene homolog 2)-driven activation of the MAPK pathway, which confers tamoxifen resistance to breast cancer cells. The precise mechanisms by which CDK10 modulates ETS2 activity, and more generally the functions of CDK10, remain elusive. Here we demonstrate that CDK10 is a cyclin-dependent kinase by identifying cyclin M as an activating cyclin. Cyclin M, an orphan cyclin, is the product of FAM58A, whose mutations cause STAR syndrome, a human developmental anomaly whose features include toe syndactyly, telecanthus, and anogenital and renal malformations. We show that STAR syndrome-associated cyclin M mutants are unable to interact with CDK10. Cyclin M silencing phenocopies CDK10 silencing in increasing c-Raf and in conferring tamoxifen resistance to breast cancer cells. CDK10/cyclin M phosphorylates ETS2 in vitro, and in cells it positively controls ETS2 degradation by the proteasome. ETS2 protein levels are increased in cells derived from a STAR patient, and this increase is attributable to decreased cyclin M levels. Altogether, our results reveal an additional regulatory mechanism for ETS2, which plays key roles in cancer and development. They also shed light on the molecular mechanisms underlying STAR syndrome.Cyclin-dependent kinases (CDKs) play a pivotal role in the control of a number of fundamental cellular processes (1). The human genome contains 21 genes encoding proteins that can be considered as members of the CDK"
   ]
  },
  {
   "cell_type": "markdown",
   "metadata": {},
   "source": [
    "# Sample Output\n",
    "####  0 cyclin dependent kinases cdks regulate variety fundamental cellular processes cdk10 stands one last orphan cdks activating cyclin identified kinase activity revealed previous work shown cdk10 silencing increases ets2 v ets erythroblastosis virus e26 oncogene homolog 2 driven activation mapk pathway confers tamoxifen resistance breast cancer cells precise mechanisms cdk10 modulates ets2 activity generally functions cdk10 remain elusive demonstrate cdk10 cyclin dependent kinase identifying cyclin activating cyclin cyclin orphan cyclin product fam58a whose mutations cause star syndrome human developmental anomaly whose features include toe syndactyly telecanthus anogenital renal malformations show star syndrome associated cyclin mutants unable interact cdk10 cyclin silencing phenocopies cdk10 silencing increasing c raf conferring tamoxifen resistance breast cancer cells cdk10 cyclin phosphorylates ets2 vitro cells positively controls ets2 degradation proteasome ets2 protein levels increased cells derived star patient increase attributable decreased cyclin levels altogether results reveal additional regulatory mechanism ets2 plays key roles cancer development also shed light molecular mechanisms underlying star syndrome cyclin dependent kinases cdks play pivotal role control number fundamental cellular processes 1 human genome contains 21 genes encoding proteins considered members cdk "
   ]
  },
  {
   "cell_type": "code",
   "execution_count": 155,
   "metadata": {},
   "outputs": [],
   "source": [
    "# importing important libraries\n",
    "from nltk.corpus import stopwords\n",
    "import re"
   ]
  },
  {
   "cell_type": "code",
   "execution_count": 156,
   "metadata": {},
   "outputs": [],
   "source": [
    "# Storing all the stopwords in english\n",
    "stop_words = set(stopwords.words('english'))"
   ]
  },
  {
   "cell_type": "code",
   "execution_count": 157,
   "metadata": {},
   "outputs": [
    {
     "name": "stdout",
     "output_type": "stream",
     "text": [
      "{\"wasn't\", 'll', 'of', \"you'll\", 'very', 'any', 'be', 'hasn', 'were', 'to', 'into', 'no', 'mightn', \"mightn't\", 'shouldn', 'his', \"it's\", 'over', \"aren't\", 'once', 'when', 'nor', \"mustn't\", 'it', 'who', 'after', 'which', 'hers', 'had', 'themselves', 'my', 'so', 'doesn', \"weren't\", \"that'll\", 'her', 'weren', 'just', 'they', 'are', 'not', 'other', 'an', 'both', \"she's\", 'in', 'whom', 'ours', 'before', 'shan', 'yourself', 'out', 'the', 'some', 'been', 'this', 'but', 'why', 'couldn', 'those', 'where', 'if', 'then', 'me', \"wouldn't\", 'isn', 've', 'theirs', 'most', \"couldn't\", \"shouldn't\", 'here', 'will', 'was', 'can', 'these', 'o', 'myself', 'having', 'that', 'hadn', 'i', 'a', 'them', 'under', 'its', 'as', \"you're\", 'or', 'only', 'few', 'off', 'him', 'how', 'himself', 'and', 'y', 'such', 'up', 'against', \"won't\", 'wasn', 't', 'doing', 'herself', \"didn't\", 'he', 'd', 'above', 'what', 'itself', 'ain', 'same', 're', 'needn', 'now', \"shan't\", 'down', 'we', 'through', 'from', 'more', 'did', \"hasn't\", \"haven't\", 'until', 'didn', \"you'd\", 'because', 'wouldn', 'have', 'at', 'you', \"needn't\", 'has', 'yours', 'by', 'for', 'am', 'each', 'do', \"should've\", \"doesn't\", 'she', \"hadn't\", 'is', \"don't\", 'there', 'yourselves', 'below', 'all', 'our', \"you've\", 'further', 'too', 'while', 'don', 'won', 'between', 'than', 'should', 'being', 's', 'with', 'about', 'during', 'm', 'on', 'mustn', 'their', 'again', 'ourselves', 'does', 'haven', 'aren', 'your', 'own', \"isn't\", 'ma'}\n"
     ]
    }
   ],
   "source": [
    "print(stop_words)"
   ]
  },
  {
   "cell_type": "code",
   "execution_count": 161,
   "metadata": {},
   "outputs": [
    {
     "name": "stdout",
     "output_type": "stream",
     "text": [
      "0||Cyclin-dependent kinases (CDKs) regulate a variety of fundamental cellular processes. CDK10 stands out as one of the last orphan CDKs for which no activating cyclin has been identified and no kinase activity revealed. Previous work has shown that CDK10 silencing increases ETS2 (v-ets erythroblastosis virus E26 oncogene homolog 2)-driven activation of the MAPK pathway, which confers tamoxifen resistance to breast cancer cells. The precise mechanisms by which CDK10 modulates ETS2 activity, and more generally the functions of CDK10, remain elusive. Here we demonstrate that CDK10 is a cyclin-dependent kinase by identifying cyclin M as an activating cyclin. Cyclin M, an orphan cyclin, is the product of FAM58A, whose mutations cause STAR syndrome, a human developmental anomaly whose features include toe syndactyly, telecanthus, and anogenital and renal malformations. We show that STAR syndrome-associated cyclin M mutants are unable to interact with CDK10. Cyclin M silencing phenocopies CDK10 silencing in increasing c-Raf and in conferring tamoxifen resistance to breast cancer cells. CDK10/cyclin M phosphorylates ETS2 in vitro, and in cells it positively controls ETS2 degradation by the proteasome. ETS2 protein levels are increased in cells derived from a STAR patient, and this increase is attributable to decreased cyclin M levels. Altogether, our results reveal an additional regulatory mechanism for ETS2, which plays key roles in cancer and development. They also shed light on the molecular mechanisms underlying STAR syndrome.Cyclin-dependent kinases (CDKs) play a pivotal role in the control of a number of fundamental cellular processes (1). The human genome contains 21 genes encoding proteins that can be considered as members of the CDK\n"
     ]
    }
   ],
   "source": [
    "# adding the sentence in the list\n",
    "k=[]\n",
    "k.append('0||Cyclin-dependent kinases (CDKs) regulate a variety of fundamental cellular processes. CDK10 stands out as one of the last orphan CDKs for which no activating cyclin has been identified and no kinase activity revealed. Previous work has shown that CDK10 silencing increases ETS2 (v-ets erythroblastosis virus E26 oncogene homolog 2)-driven activation of the MAPK pathway, which confers tamoxifen resistance to breast cancer cells. The precise mechanisms by which CDK10 modulates ETS2 activity, and more generally the functions of CDK10, remain elusive. Here we demonstrate that CDK10 is a cyclin-dependent kinase by identifying cyclin M as an activating cyclin. Cyclin M, an orphan cyclin, is the product of FAM58A, whose mutations cause STAR syndrome, a human developmental anomaly whose features include toe syndactyly, telecanthus, and anogenital and renal malformations. We show that STAR syndrome-associated cyclin M mutants are unable to interact with CDK10. Cyclin M silencing phenocopies CDK10 silencing in increasing c-Raf and in conferring tamoxifen resistance to breast cancer cells. CDK10/cyclin M phosphorylates ETS2 in vitro, and in cells it positively controls ETS2 degradation by the proteasome. ETS2 protein levels are increased in cells derived from a STAR patient, and this increase is attributable to decreased cyclin M levels. Altogether, our results reveal an additional regulatory mechanism for ETS2, which plays key roles in cancer and development. They also shed light on the molecular mechanisms underlying STAR syndrome.Cyclin-dependent kinases (CDKs) play a pivotal role in the control of a number of fundamental cellular processes (1). The human genome contains 21 genes encoding proteins that can be considered as members of the CDK')\n",
    "print(k[0])"
   ]
  },
  {
   "cell_type": "code",
   "execution_count": 162,
   "metadata": {},
   "outputs": [],
   "source": [
    "# Input - String which has to be preprocessed\n",
    "# Output - String after preprocessing\n",
    "\n",
    "def preprocessing_text(text):\n",
    "        final_text = []\n",
    "        string = \"\"\n",
    "        \n",
    "        # replace every special char with space\n",
    "        text = re.sub('[^a-zA-Z0-9\\n]', ' ', text)\n",
    "        \n",
    "        # replace multiple spaces with single space\n",
    "        text = re.sub('\\s+',' ', text)\n",
    "        \n",
    "        # converting all the chars into lower-case.\n",
    "        text = text.lower()\n",
    "        \n",
    "        for word in text.split():\n",
    "        # if the word is a not a stop word then retain that word from the data\n",
    "            if not word in stop_words:\n",
    "                string += word + \" \"\n",
    "                \n",
    "        # Clearing starting and ending spaces if any\n",
    "        string = string.strip()\n",
    "                \n",
    "        final_text.append(string)\n",
    "                \n",
    "        return final_text[0]"
   ]
  },
  {
   "cell_type": "code",
   "execution_count": 163,
   "metadata": {},
   "outputs": [
    {
     "name": "stdout",
     "output_type": "stream",
     "text": [
      "0 cyclin dependent kinases cdks regulate variety fundamental cellular processes cdk10 stands one last orphan cdks activating cyclin identified kinase activity revealed previous work shown cdk10 silencing increases ets2 v ets erythroblastosis virus e26 oncogene homolog 2 driven activation mapk pathway confers tamoxifen resistance breast cancer cells precise mechanisms cdk10 modulates ets2 activity generally functions cdk10 remain elusive demonstrate cdk10 cyclin dependent kinase identifying cyclin activating cyclin cyclin orphan cyclin product fam58a whose mutations cause star syndrome human developmental anomaly whose features include toe syndactyly telecanthus anogenital renal malformations show star syndrome associated cyclin mutants unable interact cdk10 cyclin silencing phenocopies cdk10 silencing increasing c raf conferring tamoxifen resistance breast cancer cells cdk10 cyclin phosphorylates ets2 vitro cells positively controls ets2 degradation proteasome ets2 protein levels increased cells derived star patient increase attributable decreased cyclin levels altogether results reveal additional regulatory mechanism ets2 plays key roles cancer development also shed light molecular mechanisms underlying star syndrome cyclin dependent kinases cdks play pivotal role control number fundamental cellular processes 1 human genome contains 21 genes encoding proteins considered members cdk\n"
     ]
    }
   ],
   "source": [
    "# Calling the function and storing in the same list\n",
    "k[0] = preprocessing_text(k[0])\n",
    "print(k[0])"
   ]
  },
  {
   "cell_type": "markdown",
   "metadata": {},
   "source": [
    "## - Feel free to use this code in your preprocessing steps and edit it according to your requirement\n",
    "\n",
    "## - That's all folks Thanks"
   ]
  }
 ],
 "metadata": {
  "kernelspec": {
   "display_name": "Python 3",
   "language": "python",
   "name": "python3"
  },
  "language_info": {
   "codemirror_mode": {
    "name": "ipython",
    "version": 3
   },
   "file_extension": ".py",
   "mimetype": "text/x-python",
   "name": "python",
   "nbconvert_exporter": "python",
   "pygments_lexer": "ipython3",
   "version": "3.7.2"
  }
 },
 "nbformat": 4,
 "nbformat_minor": 2
}
