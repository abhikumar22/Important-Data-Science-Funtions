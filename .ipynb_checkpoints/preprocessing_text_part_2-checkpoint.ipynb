{
 "cells": [
  {
   "cell_type": "markdown",
   "metadata": {},
   "source": [
    "# Preprocessing Text Steps\n",
    "- Remove end and start spaces if any\n",
    "- Remove unwanted spaces between words\n",
    "- Remove Special characters\n",
    "- Conversion to LowerCase\n",
    "- Stopwords Removal\n",
    "- Conversion of word to base form(Stemming)\n",
    "- Removal of HTML Tags"
   ]
  },
  {
   "cell_type": "markdown",
   "metadata": {},
   "source": [
    "# Sample Input\n",
    "\n",
    "###  I love eating them and they are good for watching TV and looking at movies! It is not too sweet. I like to transfer them to a zip lock baggie so they stay fresh so I can take my time eating them.\n",
    "\n",
    "###  I was so glad Amazon carried these batteries. I have a hard time finding them elsewhere because they are such a unique size. I need them for my garage door opener.<br />Great deal for the price.\n",
    "\n",
    "###  Watch your prices with this. While the assortment was good, and I did get this on a gold box purchase, the price for this was<br />$3-4 less at Target."
   ]
  },
  {
   "cell_type": "markdown",
   "metadata": {},
   "source": [
    "# Sample Output\n",
    "###  love eat good watch tv look movi sweet like transfer zip lock baggi stay fresh take time eat\n",
    "\n",
    "### glad amazon carri batteri hard time find elsewher uniqu size need garag door open great deal price\n",
    "\n",
    "### watch price assort good get gold box purchas price less target"
   ]
  },
  {
   "cell_type": "code",
   "execution_count": 81,
   "metadata": {},
   "outputs": [],
   "source": [
    "# importing important libraries\n",
    "from nltk.corpus import stopwords\n",
    "import re\n",
    "from nltk.stem import PorterStemmer"
   ]
  },
  {
   "cell_type": "code",
   "execution_count": 82,
   "metadata": {},
   "outputs": [],
   "source": [
    "# Storing all the stopwords in english\n",
    "stop_words = set(stopwords.words('english'))\n",
    "ps = PorterStemmer()"
   ]
  },
  {
   "cell_type": "code",
   "execution_count": 83,
   "metadata": {},
   "outputs": [
    {
     "name": "stdout",
     "output_type": "stream",
     "text": [
      "{'y', 'won', 'itself', 'hasn', 'both', 'will', 'if', 'a', 'few', 'more', 'to', 'her', 'nor', 'over', 'why', 'than', 'these', 's', 'mustn', 'does', 'herself', 'or', 'don', 'as', 'we', 're', 'yourselves', 'me', 'm', \"wasn't\", 'yourself', 'it', 'hadn', 'up', 've', 'at', 'are', 'below', \"mightn't\", 'our', 'was', 'off', 'had', 'mightn', \"haven't\", 'doesn', 'you', \"that'll\", 'your', 'while', 'where', 'all', 'not', \"won't\", 'that', 'about', 'whom', 'hers', 'being', 'no', \"couldn't\", 'ma', 'by', 'after', \"shouldn't\", 'against', 'then', 'with', \"aren't\", 'until', 'so', 'between', 'should', 'they', 'themselves', 'be', 'wouldn', \"you'd\", 'who', 'into', 'how', \"hasn't\", 'been', 'this', 'himself', 'd', 'o', 'ourselves', 'on', 'myself', \"needn't\", 'during', \"didn't\", 'shan', 'each', 'further', 'him', 'have', 't', \"mustn't\", \"wouldn't\", \"don't\", 'again', \"doesn't\", 'there', 'of', 'any', 'just', 'when', 'haven', 'yours', 'my', 'out', 'here', 'under', 'other', 'from', 'only', 'did', 'weren', 'is', 'the', 'i', 'wasn', 'in', 'for', 'because', \"shan't\", \"you're\", 'but', 'were', 'before', 'didn', 'he', 'most', 'down', \"you've\", 'shouldn', 'very', 'those', \"it's\", \"should've\", \"you'll\", \"hadn't\", 'do', 'its', 'has', 'once', 'now', 'too', 'their', 'aren', 'doing', 'ain', 'she', 'above', 'own', 'isn', \"weren't\", 'such', 'ours', 'am', 'through', 'some', 'and', 'theirs', 'which', 'having', \"she's\", 'll', 'an', 'can', 'couldn', 'his', 'needn', 'them', 'same', \"isn't\", 'what'}\n"
     ]
    }
   ],
   "source": [
    "print(stop_words)"
   ]
  },
  {
   "cell_type": "code",
   "execution_count": 84,
   "metadata": {},
   "outputs": [
    {
     "name": "stdout",
     "output_type": "stream",
     "text": [
      "I love eating them and they are good for watching TV and looking at movies! It is not too sweet. I like to transfer them to a zip lock baggie so they stay fresh so I can take my time eating them.\n",
      "\n",
      "I was so glad Amazon carried these batteries. I have a hard time finding them elsewhere because they are such a unique size. I need them for my garage door opener.<br />Great deal for the price.\n",
      "\n",
      "Watch your prices with this. While the assortment was good, and I did get this on a gold box purchase, the price for this was<br />$3-4 less at Target.\n"
     ]
    }
   ],
   "source": [
    "# adding the sentence in the list\n",
    "k=[]\n",
    "k.append('I love eating them and they are good for watching TV and looking at movies! It is not too sweet. I like to transfer them to a zip lock baggie so they stay fresh so I can take my time eating them.')\n",
    "k.append('I was so glad Amazon carried these batteries. I have a hard time finding them elsewhere because they are such a unique size. I need them for my garage door opener.<br />Great deal for the price.')\n",
    "k.append('Watch your prices with this. While the assortment was good, and I did get this on a gold box purchase, the price for this was<br />$3-4 less at Target.')\n",
    "print(k[0])\n",
    "print()\n",
    "print(k[1])\n",
    "print()\n",
    "print(k[2])"
   ]
  },
  {
   "cell_type": "code",
   "execution_count": 85,
   "metadata": {},
   "outputs": [],
   "source": [
    "# Input - String which has to be preprocessed\n",
    "# Output - String after preprocessing\n",
    "\n",
    "def preprocessing_text(text):\n",
    "        final_text = []\n",
    "        string = \"\"\n",
    "        \n",
    "        # remove html tags\n",
    "        text = re.sub('<.*?>',' ',text)\n",
    "        \n",
    "        # replace every special char with space\n",
    "        text = re.sub('[^a-zA-Z0-9\\n]', ' ', text)\n",
    "        \n",
    "        # replace multiple spaces with single space\n",
    "        text = re.sub('\\s+',' ', text)\n",
    "        \n",
    "        # converting all the chars into lower-case.\n",
    "        text = text.lower()\n",
    "        \n",
    "        for word in text.split():\n",
    "        # if the word is a not a stop word then retain that word from the data and word is not numbers\n",
    "            if not word in stop_words and word.isalpha():\n",
    "                \n",
    "                string += ps.stem(word) + \" \"\n",
    "                \n",
    "        # Clearing starting and ending spaces if any\n",
    "        string = string.strip()\n",
    "                \n",
    "        final_text.append(string)\n",
    "                \n",
    "        return final_text[0]"
   ]
  },
  {
   "cell_type": "code",
   "execution_count": 94,
   "metadata": {},
   "outputs": [
    {
     "name": "stdout",
     "output_type": "stream",
     "text": [
      "**************\n",
      "--Orignal Text--\n",
      "I love eating them and they are good for watching TV and looking at movies! It is not too sweet. I like to transfer them to a zip lock baggie so they stay fresh so I can take my time eating them.\n",
      "\n",
      "--Preprocessed Text--\n",
      "love eat good watch tv look movi sweet like transfer zip lock baggi stay fresh take time eat\n"
     ]
    }
   ],
   "source": [
    "# Calling the function and storing in the same list\n",
    "p = []\n",
    "p.append(preprocessing_text(k[0]))\n",
    "print(\"**************\")\n",
    "print(\"--Orignal Text--\")\n",
    "print(k[0])\n",
    "print()\n",
    "print(\"--Preprocessed Text--\")\n",
    "print(p[0])"
   ]
  },
  {
   "cell_type": "code",
   "execution_count": 93,
   "metadata": {},
   "outputs": [
    {
     "name": "stdout",
     "output_type": "stream",
     "text": [
      "**************\n",
      "--Orignal Text--\n",
      "I was so glad Amazon carried these batteries. I have a hard time finding them elsewhere because they are such a unique size. I need them for my garage door opener.<br />Great deal for the price.\n",
      "\n",
      "--Preprocessed Text--\n",
      "glad amazon carri batteri hard time find elsewher uniqu size need garag door open great deal price\n"
     ]
    }
   ],
   "source": [
    "p.append(preprocessing_text(k[1]))\n",
    "print(\"**************\")\n",
    "print(\"--Orignal Text--\")\n",
    "print(k[1])\n",
    "print()\n",
    "print(\"--Preprocessed Text--\")\n",
    "print(p[1])"
   ]
  },
  {
   "cell_type": "code",
   "execution_count": 92,
   "metadata": {},
   "outputs": [
    {
     "name": "stdout",
     "output_type": "stream",
     "text": [
      "**************\n",
      "--Orignal Text--\n",
      "Watch your prices with this. While the assortment was good, and I did get this on a gold box purchase, the price for this was<br />$3-4 less at Target.\n",
      "\n",
      "--Preprocessed Text--\n",
      "watch price assort good get gold box purchas price less target\n"
     ]
    }
   ],
   "source": [
    "print(\"**************\")\n",
    "p.append(preprocessing_text(k[2]))\n",
    "print(\"--Orignal Text--\")\n",
    "print(k[2])\n",
    "print()\n",
    "print(\"--Preprocessed Text--\")\n",
    "print(p[2])"
   ]
  },
  {
   "cell_type": "markdown",
   "metadata": {},
   "source": [
    "## - Feel free to use this code in your preprocessing steps and edit it according to your requirement\n",
    "\n",
    "## - That's all folks Thanks"
   ]
  }
 ],
 "metadata": {
  "kernelspec": {
   "display_name": "Python 3",
   "language": "python",
   "name": "python3"
  },
  "language_info": {
   "codemirror_mode": {
    "name": "ipython",
    "version": 3
   },
   "file_extension": ".py",
   "mimetype": "text/x-python",
   "name": "python",
   "nbconvert_exporter": "python",
   "pygments_lexer": "ipython3",
   "version": "3.7.2"
  }
 },
 "nbformat": 4,
 "nbformat_minor": 2
}
